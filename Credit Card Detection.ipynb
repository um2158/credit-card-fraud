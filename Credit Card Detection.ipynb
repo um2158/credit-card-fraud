{
 "cells": [
  {
   "cell_type": "markdown",
   "id": "8fc8b808",
   "metadata": {},
   "source": [
    "# Case\n",
    "### Assume that you are employed to help a credit card company to detect potential fraud cases so that the customers are ensured that they won’t be charged for the items they did not purchase. You are given a dataset containing the transactions between people, the information that they are fraud or not, and you are asked to differentiate between them. This is the case we are going to deal with. Our ultimate intent is to tackle this situation by building classification models to classify and distinguish fraud transactions."
   ]
  },
  {
   "cell_type": "markdown",
   "id": "a728cf56",
   "metadata": {},
   "source": [
    "## Content\n",
    "\n",
    "The dataset contains transactions made by credit cards in September 2013 by European cardholders.\n",
    "This dataset presents transactions that occurred in two days, where we have 492 frauds out of 284,807 transactions. The dataset is highly unbalanced, the positive class (frauds) account for 0.172% of all transactions.\n",
    "\n",
    "It contains only numerical input variables which are the result of a PCA transformation. Unfortunately, due to confidentiality issues, we cannot provide the original features and more background information about the data. Features V1, V2, … V28 are the principal components obtained with PCA, the only features which have not been transformed with PCA are 'Time' and 'Amount'. Feature 'Time' contains the seconds elapsed between each transaction and the first transaction in the dataset. The feature 'Amount' is the transaction Amount, this feature can be used for example-dependant cost-sensitive learning. Feature 'Class' is the response variable and it takes value 1 in case of fraud and 0 otherwise.\n",
    "\n",
    "Given the class imbalance ratio, we recommend measuring the accuracy using the Area Under the Precision-Recall Curve (AUPRC). Confusion matrix accuracy is not meaningful for unbalanced classification.\n",
    "\n"
   ]
  },
  {
   "cell_type": "markdown",
   "id": "a5ace2d5",
   "metadata": {},
   "source": [
    "## Acknowledgements\n",
    "The dataset has been collected and analysed during a research collaboration of Worldline and the Machine Learning Group (http://mlg.ulb.ac.be) of ULB (Université Libre de Bruxelles) on big data mining and fraud detection.\n",
    "More details on current and past projects on related topics are available on https://www.researchgate.net/project/Fraud-detection-5 and the page of the DefeatFraud project\n",
    "\n",
    "Please cite the following works:\n",
    "\n",
    "Andrea Dal Pozzolo, Olivier Caelen, Reid A. Johnson and Gianluca Bontempi. Calibrating Probability with Undersampling for Unbalanced Classification. In Symposium on Computational Intelligence and Data Mining (CIDM), IEEE, 2015\n",
    "\n",
    "Dal Pozzolo, Andrea; Caelen, Olivier; Le Borgne, Yann-Ael; Waterschoot, Serge; Bontempi, Gianluca. Learned lessons in credit card fraud detection from a practitioner perspective, Expert systems with applications,41,10,4915-4928,2014, Pergamon\n",
    "\n",
    "Dal Pozzolo, Andrea; Boracchi, Giacomo; Caelen, Olivier; Alippi, Cesare; Bontempi, Gianluca. Credit card fraud detection: a realistic modeling and a novel learning strategy, IEEE transactions on neural networks and learning systems,29,8,3784-3797,2018,IEEE\n",
    "\n",
    "Dal Pozzolo, Andrea Adaptive Machine learning for credit card fraud detection ULB MLG PhD thesis (supervised by G. Bontempi)\n",
    "\n",
    "Carcillo, Fabrizio; Dal Pozzolo, Andrea; Le Borgne, Yann-Aël; Caelen, Olivier; Mazzer, Yannis; Bontempi, Gianluca. Scarff: a scalable framework for streaming credit card fraud detection with Spark, Information fusion,41, 182-194,2018,Elsevier\n",
    "\n",
    "Carcillo, Fabrizio; Le Borgne, Yann-Aël; Caelen, Olivier; Bontempi, Gianluca. Streaming active learning strategies for real-life credit card fraud detection: assessment and visualization, International Journal of Data Science and Analytics, 5,4,285-300,2018,Springer International Publishing\n",
    "\n",
    "Bertrand Lebichot, Yann-Aël Le Borgne, Liyun He, Frederic Oblé, Gianluca Bontempi Deep-Learning Domain Adaptation Techniques for Credit Cards Fraud Detection, INNSBDDL 2019: Recent Advances in Big Data and Deep Learning, pp 78-88, 2019\n",
    "\n",
    "Fabrizio Carcillo, Yann-Aël Le Borgne, Olivier Caelen, Frederic Oblé, Gianluca Bontempi Combining Unsupervised and Supervised Learning in Credit Card Fraud Detection Information Sciences, 2019\n",
    "\n",
    "Yann-Aël Le Borgne, Gianluca Bontempi Reproducible machine Learning for Credit Card Fraud Detection - Practical Handbook\n",
    "\n",
    "Bertrand Lebichot, Gianmarco Paldino, Wissam Siblini, Liyun He, Frederic Oblé, Gianluca Bontempi Incremental learning strategies for credit cards fraud detection, IInternational Journal of Data Science and Analytics"
   ]
  },
  {
   "cell_type": "markdown",
   "id": "da4b71f4",
   "metadata": {},
   "source": [
    "## Importing the Packages"
   ]
  },
  {
   "cell_type": "code",
   "execution_count": 1,
   "id": "bae8574c",
   "metadata": {},
   "outputs": [],
   "source": [
    "import pandas as pd # data processing\n",
    "import numpy as np # working with arrays\n",
    "import matplotlib.pyplot as plt # visualization\n",
    "from termcolor import colored as cl # text customization\n",
    "import itertools # advanced tools\n",
    "\n",
    "from sklearn.preprocessing import StandardScaler # data normalization\n",
    "from sklearn.model_selection import train_test_split # data split\n",
    "from sklearn.tree import DecisionTreeClassifier # Decision tree algorit\n",
    "from sklearn.linear_model import LogisticRegression # Logistic regression algorithm\n",
    "from sklearn.svm import SVC # SVM algorithm\n",
    "from sklearn.ensemble import RandomForestClassifier # Random forest tree algorithm\n",
    "from xgboost import XGBClassifier # XGBoost algorithm\n",
    "\n",
    "from sklearn.metrics import confusion_matrix # evaluation metric\n",
    "from sklearn.metrics import accuracy_score # evaluation metric\n",
    "from sklearn.metrics import f1_score # evaluation metric\n"
   ]
  },
  {
   "cell_type": "markdown",
   "id": "6b26b614",
   "metadata": {},
   "source": [
    "## Importing Data"
   ]
  },
  {
   "cell_type": "code",
   "execution_count": 2,
   "id": "b1aed017",
   "metadata": {},
   "outputs": [
    {
     "name": "stdout",
     "output_type": "stream",
     "text": [
      "         V1        V2        V3        V4        V5        V6        V7  \\\n",
      "0 -1.359807 -0.072781  2.536347  1.378155 -0.338321  0.462388  0.239599   \n",
      "1  1.191857  0.266151  0.166480  0.448154  0.060018 -0.082361 -0.078803   \n",
      "2 -1.358354 -1.340163  1.773209  0.379780 -0.503198  1.800499  0.791461   \n",
      "3 -0.966272 -0.185226  1.792993 -0.863291 -0.010309  1.247203  0.237609   \n",
      "4 -1.158233  0.877737  1.548718  0.403034 -0.407193  0.095921  0.592941   \n",
      "\n",
      "         V8        V9       V10  ...       V21       V22       V23       V24  \\\n",
      "0  0.098698  0.363787  0.090794  ... -0.018307  0.277838 -0.110474  0.066928   \n",
      "1  0.085102 -0.255425 -0.166974  ... -0.225775 -0.638672  0.101288 -0.339846   \n",
      "2  0.247676 -1.514654  0.207643  ...  0.247998  0.771679  0.909412 -0.689281   \n",
      "3  0.377436 -1.387024 -0.054952  ... -0.108300  0.005274 -0.190321 -1.175575   \n",
      "4 -0.270533  0.817739  0.753074  ... -0.009431  0.798278 -0.137458  0.141267   \n",
      "\n",
      "        V25       V26       V27       V28  Amount  Class  \n",
      "0  0.128539 -0.189115  0.133558 -0.021053  149.62      0  \n",
      "1  0.167170  0.125895 -0.008983  0.014724    2.69      0  \n",
      "2 -0.327642 -0.139097 -0.055353 -0.059752  378.66      0  \n",
      "3  0.647376 -0.221929  0.062723  0.061458  123.50      0  \n",
      "4 -0.206010  0.502292  0.219422  0.215153   69.99      0  \n",
      "\n",
      "[5 rows x 30 columns]\n"
     ]
    }
   ],
   "source": [
    "df = pd.read_csv('creditcard.csv')\n",
    "df.drop('Time', axis = 1, inplace = True)\n",
    "\n",
    "print(df.head())\n",
    "\n"
   ]
  },
  {
   "cell_type": "markdown",
   "id": "8830c612",
   "metadata": {},
   "source": [
    "## Data Processing and EDA"
   ]
  },
  {
   "cell_type": "code",
   "execution_count": 4,
   "id": "4470aecf",
   "metadata": {},
   "outputs": [
    {
     "name": "stdout",
     "output_type": "stream",
     "text": [
      "\u001b[1mCASE COUNT\u001b[0m\n",
      "\u001b[1m--------------------------------------------\u001b[0m\n",
      "\u001b[1mTotal number of cases are 284807\u001b[0m\n",
      "\u001b[1mNumber of Non-fraud cases are 284315\u001b[0m\n",
      "\u001b[1mNumber of Non-fraud cases are 492\u001b[0m\n",
      "\u001b[1mPercentage of fraud cases is 0.17\u001b[0m\n",
      "\u001b[1m--------------------------------------------\u001b[0m\n"
     ]
    }
   ],
   "source": [
    "\n",
    "cases = len(df)\n",
    "nonfraud_count = len(df[df.Class == 0])\n",
    "fraud_count = len(df[df.Class == 1])\n",
    "fraud_percentage = round(fraud_count/nonfraud_count*100, 2)\n",
    "\n",
    "print(cl('CASE COUNT', attrs = ['bold']))\n",
    "print(cl('--------------------------------------------', attrs = ['bold']))\n",
    "print(cl('Total number of cases are {}'.format(cases), attrs = ['bold']))\n",
    "print(cl('Number of Non-fraud cases are {}'.format(nonfraud_count), attrs = ['bold']))\n",
    "print(cl('Number of Non-fraud cases are {}'.format(fraud_count), attrs = ['bold']))\n",
    "print(cl('Percentage of fraud cases is {}'.format(fraud_percentage), attrs = ['bold']))\n",
    "print(cl('--------------------------------------------', attrs = ['bold']))"
   ]
  },
  {
   "cell_type": "code",
   "execution_count": 5,
   "id": "2f55692a",
   "metadata": {},
   "outputs": [
    {
     "name": "stdout",
     "output_type": "stream",
     "text": [
      "\u001b[1mCASE AMOUNT STATISTICS\u001b[0m\n",
      "\u001b[1m--------------------------------------------\u001b[0m\n",
      "\u001b[1mNON-FRAUD CASE AMOUNT STATS\u001b[0m\n",
      "count    284315.000000\n",
      "mean         88.291022\n",
      "std         250.105092\n",
      "min           0.000000\n",
      "25%           5.650000\n",
      "50%          22.000000\n",
      "75%          77.050000\n",
      "max       25691.160000\n",
      "Name: Amount, dtype: float64\n",
      "\u001b[1m--------------------------------------------\u001b[0m\n",
      "\u001b[1mFRAUD CASE AMOUNT STATS\u001b[0m\n",
      "count     492.000000\n",
      "mean      122.211321\n",
      "std       256.683288\n",
      "min         0.000000\n",
      "25%         1.000000\n",
      "50%         9.250000\n",
      "75%       105.890000\n",
      "max      2125.870000\n",
      "Name: Amount, dtype: float64\n",
      "\u001b[1m--------------------------------------------\u001b[0m\n"
     ]
    }
   ],
   "source": [
    "nonfraud_cases = df[df.Class == 0]\n",
    "fraud_cases = df[df.Class == 1]\n",
    "\n",
    "print(cl('CASE AMOUNT STATISTICS', attrs = ['bold']))\n",
    "print(cl('--------------------------------------------', attrs = ['bold']))\n",
    "print(cl('NON-FRAUD CASE AMOUNT STATS', attrs = ['bold']))\n",
    "print(nonfraud_cases.Amount.describe())\n",
    "print(cl('--------------------------------------------', attrs = ['bold']))\n",
    "print(cl('FRAUD CASE AMOUNT STATS', attrs = ['bold']))\n",
    "print(fraud_cases.Amount.describe())\n",
    "print(cl('--------------------------------------------', attrs = ['bold']))"
   ]
  },
  {
   "cell_type": "code",
   "execution_count": 6,
   "id": "f5e03b76",
   "metadata": {},
   "outputs": [
    {
     "name": "stdout",
     "output_type": "stream",
     "text": [
      "\u001b[1m0    0.244964\n",
      "1   -0.342475\n",
      "2    1.160686\n",
      "3    0.140534\n",
      "4   -0.073403\n",
      "5   -0.338556\n",
      "6   -0.333279\n",
      "7   -0.190107\n",
      "8    0.019392\n",
      "9   -0.338516\n",
      "Name: Amount, dtype: float64\u001b[0m\n"
     ]
    }
   ],
   "source": [
    "\n",
    "sc = StandardScaler()\n",
    "amount = df['Amount'].values\n",
    "\n",
    "df['Amount'] = sc.fit_transform(amount.reshape(-1, 1))\n",
    "\n",
    "print(cl(df['Amount'].head(10), attrs = ['bold']))"
   ]
  },
  {
   "cell_type": "markdown",
   "id": "8babf93c",
   "metadata": {},
   "source": [
    "## Feature Selection & Data Split"
   ]
  },
  {
   "cell_type": "code",
   "execution_count": 7,
   "id": "54dcdb34",
   "metadata": {
    "scrolled": true
   },
   "outputs": [
    {
     "name": "stdout",
     "output_type": "stream",
     "text": [
      "\u001b[1mX_train samples : \u001b[0m [[-1.11504743  1.03558276  0.80071244 -1.06039825  0.03262117  0.85342216\n",
      "  -0.61424348 -3.23116112  1.53994798 -0.81690879 -1.30559201  0.1081772\n",
      "  -0.85960958 -0.07193421  0.90665563 -1.72092961  0.79785322 -0.0067594\n",
      "   1.95677806 -0.64489556  3.02038533 -0.53961798  0.03315649 -0.77494577\n",
      "   0.10586781 -0.43085348  0.22973694 -0.0705913  -0.30145418]]\n",
      "\u001b[1mX_test samples : \u001b[0m [[-0.32333357  1.05745525 -0.04834115 -0.60720431  1.25982115 -0.09176072\n",
      "   1.1591015  -0.12433461 -0.17463954 -1.64440065 -1.11886302  0.20264731\n",
      "   1.14596495 -1.80235956 -0.24717793 -0.06094535  0.84660574  0.37945439\n",
      "   0.84726224  0.18640942 -0.20709827 -0.43389027 -0.26161328 -0.04665061\n",
      "   0.2115123   0.00829721  0.10849443  0.16113917 -0.19330595]]\n",
      "\u001b[1my_train samples : \u001b[0m [0 0 0 0 0 0 0 0 0 0 0 0 0 0 0 0 0 0 0 0]\n",
      "\u001b[1my_test samples : \u001b[0m [0 0 0 0 0 0 0 0 0 0 0 0 0 0 0 0 0 0 0 0]\n"
     ]
    }
   ],
   "source": [
    "\n",
    "# DATA SPLIT\n",
    "\n",
    "X = df.drop('Class', axis = 1).values\n",
    "y = df['Class'].values\n",
    "\n",
    "X_train, X_test, y_train, y_test = train_test_split(X, y, test_size = 0.2, random_state = 0)\n",
    "\n",
    "print(cl('X_train samples : ', attrs = ['bold']), X_train[:1])\n",
    "print(cl('X_test samples : ', attrs = ['bold']), X_test[0:1])\n",
    "print(cl('y_train samples : ', attrs = ['bold']), y_train[0:20])\n",
    "print(cl('y_test samples : ', attrs = ['bold']), y_test[0:20])"
   ]
  },
  {
   "cell_type": "code",
   "execution_count": 13,
   "id": "07212684",
   "metadata": {},
   "outputs": [
    {
     "data": {
      "text/plain": [
       "(227845, 29)"
      ]
     },
     "execution_count": 13,
     "metadata": {},
     "output_type": "execute_result"
    }
   ],
   "source": [
    "np.shape(X_train)"
   ]
  },
  {
   "cell_type": "markdown",
   "id": "a5aef67d",
   "metadata": {},
   "source": [
    "## Modeling"
   ]
  },
  {
   "cell_type": "code",
   "execution_count": 14,
   "id": "49b5e021",
   "metadata": {},
   "outputs": [],
   "source": [
    "# 1. Decision Tree\n",
    "\n",
    "tree_model = DecisionTreeClassifier(max_depth = 4, criterion = 'entropy')\n",
    "tree_model.fit(X_train, y_train)\n",
    "tree_yhat = tree_model.predict(X_test)\n",
    "\n",
    "\n",
    "# 2. Logistic Regression\n",
    "\n",
    "lr = LogisticRegression()\n",
    "lr.fit(X_train, y_train)\n",
    "lr_yhat = lr.predict(X_test)\n",
    "\n",
    "\n",
    "# 3. SVM \n",
    "\n",
    "svm = SVC()\n",
    "svm.fit(X_train, y_train)\n",
    "svm_yhat = svm.predict(X_test)\n",
    "\n",
    "# 4. Random Forest Tree\n",
    "\n",
    "rf = RandomForestClassifier(max_depth = 4)\n",
    "rf.fit(X_train, y_train)\n",
    "rf_yhat = rf.predict(X_test)\n",
    "\n",
    "# 5. XGBoost\n",
    "\n",
    "xgb = XGBClassifier(max_depth = 4)\n",
    "xgb.fit(X_train, y_train)\n",
    "xgb_yhat = xgb.predict(X_test)"
   ]
  },
  {
   "cell_type": "markdown",
   "id": "9f12c3be",
   "metadata": {},
   "source": [
    "## Evaluation"
   ]
  },
  {
   "cell_type": "markdown",
   "id": "bd45063a",
   "metadata": {},
   "source": [
    "### Accuracy Score"
   ]
  },
  {
   "cell_type": "code",
   "execution_count": 15,
   "id": "5259f845",
   "metadata": {},
   "outputs": [
    {
     "name": "stdout",
     "output_type": "stream",
     "text": [
      "\u001b[1mACCURACY SCORE\u001b[0m\n",
      "\u001b[1m------------------------------------------------------------------------\u001b[0m\n",
      "\u001b[1mAccuracy score of the Decision Tree model is 0.9993679997191109\u001b[0m\n",
      "\u001b[1m------------------------------------------------------------------------\u001b[0m\n",
      "\u001b[1m\u001b[31mAccuracy score of the Logistic Regression model is 0.9991924440855307\u001b[0m\n",
      "\u001b[1m------------------------------------------------------------------------\u001b[0m\n",
      "\u001b[1mAccuracy score of the SVM model is 0.9993153330290369\u001b[0m\n",
      "\u001b[1m------------------------------------------------------------------------\u001b[0m\n",
      "\u001b[1mAccuracy score of the Random Forest Tree model is 0.9993153330290369\u001b[0m\n",
      "\u001b[1m------------------------------------------------------------------------\u001b[0m\n",
      "\u001b[1mAccuracy score of the XGBoost model is 0.9994908886626171\u001b[0m\n",
      "\u001b[1m------------------------------------------------------------------------\u001b[0m\n"
     ]
    }
   ],
   "source": [
    "# 1. Accuracy score\n",
    "\n",
    "print(cl('ACCURACY SCORE', attrs = ['bold']))\n",
    "print(cl('------------------------------------------------------------------------', attrs = ['bold']))\n",
    "print(cl('Accuracy score of the Decision Tree model is {}'.format(accuracy_score(y_test, tree_yhat)), attrs = ['bold']))\n",
    "print(cl('------------------------------------------------------------------------', attrs = ['bold']))\n",
    "# print(cl('Accuracy score of the KNN model is {}'.format(accuracy_score(y_test, knn_yhat)), attrs = ['bold'], color = 'green'))\n",
    "# print(cl('------------------------------------------------------------------------', attrs = ['bold']))\n",
    "print(cl('Accuracy score of the Logistic Regression model is {}'.format(accuracy_score(y_test, lr_yhat)), attrs = ['bold'], color = 'red'))\n",
    "print(cl('------------------------------------------------------------------------', attrs = ['bold']))\n",
    "print(cl('Accuracy score of the SVM model is {}'.format(accuracy_score(y_test, svm_yhat)), attrs = ['bold']))\n",
    "print(cl('------------------------------------------------------------------------', attrs = ['bold']))\n",
    "print(cl('Accuracy score of the Random Forest Tree model is {}'.format(accuracy_score(y_test, rf_yhat)), attrs = ['bold']))\n",
    "print(cl('------------------------------------------------------------------------', attrs = ['bold']))\n",
    "print(cl('Accuracy score of the XGBoost model is {}'.format(accuracy_score(y_test, xgb_yhat)), attrs = ['bold']))\n",
    "print(cl('------------------------------------------------------------------------', attrs = ['bold']))"
   ]
  },
  {
   "cell_type": "markdown",
   "id": "42127a96",
   "metadata": {},
   "source": [
    "### F1 Score\n"
   ]
  },
  {
   "cell_type": "code",
   "execution_count": 16,
   "id": "52a638dd",
   "metadata": {},
   "outputs": [
    {
     "name": "stdout",
     "output_type": "stream",
     "text": [
      "\u001b[1mF1 SCORE\u001b[0m\n",
      "\u001b[1m------------------------------------------------------------------------\u001b[0m\n",
      "\u001b[1mF1 score of the Decision Tree model is 0.8105263157894738\u001b[0m\n",
      "\u001b[1m------------------------------------------------------------------------\u001b[0m\n",
      "\u001b[1m\u001b[31mF1 score of the Logistic Regression model is 0.7356321839080459\u001b[0m\n",
      "\u001b[1m------------------------------------------------------------------------\u001b[0m\n",
      "\u001b[1mF1 score of the SVM model is 0.7771428571428572\u001b[0m\n",
      "\u001b[1m------------------------------------------------------------------------\u001b[0m\n",
      "\u001b[1mF1 score of the Random Forest Tree model is 0.7796610169491525\u001b[0m\n",
      "\u001b[1m------------------------------------------------------------------------\u001b[0m\n",
      "\u001b[1mF1 score of the XGBoost model is 0.8449197860962566\u001b[0m\n",
      "\u001b[1m------------------------------------------------------------------------\u001b[0m\n"
     ]
    }
   ],
   "source": [
    "# 2. F1 score\n",
    "\n",
    "print(cl('F1 SCORE', attrs = ['bold']))\n",
    "print(cl('------------------------------------------------------------------------', attrs = ['bold']))\n",
    "print(cl('F1 score of the Decision Tree model is {}'.format(f1_score(y_test, tree_yhat)), attrs = ['bold']))\n",
    "print(cl('------------------------------------------------------------------------', attrs = ['bold']))\n",
    "# print(cl('F1 score of the KNN model is {}'.format(f1_score(y_test, knn_yhat)), attrs = ['bold'], color = 'green'))\n",
    "# print(cl('------------------------------------------------------------------------', attrs = ['bold']))\n",
    "print(cl('F1 score of the Logistic Regression model is {}'.format(f1_score(y_test, lr_yhat)), attrs = ['bold'], color = 'red'))\n",
    "print(cl('------------------------------------------------------------------------', attrs = ['bold']))\n",
    "print(cl('F1 score of the SVM model is {}'.format(f1_score(y_test, svm_yhat)), attrs = ['bold']))\n",
    "print(cl('------------------------------------------------------------------------', attrs = ['bold']))\n",
    "print(cl('F1 score of the Random Forest Tree model is {}'.format(f1_score(y_test, rf_yhat)), attrs = ['bold']))\n",
    "print(cl('------------------------------------------------------------------------', attrs = ['bold']))\n",
    "print(cl('F1 score of the XGBoost model is {}'.format(f1_score(y_test, xgb_yhat)), attrs = ['bold']))\n",
    "print(cl('------------------------------------------------------------------------', attrs = ['bold']))"
   ]
  },
  {
   "cell_type": "markdown",
   "id": "75a3cc7c",
   "metadata": {},
   "source": [
    "### Confusion Matrix"
   ]
  },
  {
   "cell_type": "code",
   "execution_count": 17,
   "id": "5df7ab7b",
   "metadata": {},
   "outputs": [
    {
     "data": {
      "image/png": "[encoded data removed]",
      "text/plain": [
       "<Figure size 432x432 with 2 Axes>"
      ]
     },
     "metadata": {
      "needs_background": "light"
     },
     "output_type": "display_data"
    },
    {
     "data": {
      "image/png": "[encoded data removed]",
      "text/plain": [
       "<Figure size 432x432 with 2 Axes>"
      ]
     },
     "metadata": {
      "needs_background": "light"
     },
     "output_type": "display_data"
    },
    {
     "data": {
      "image/png": "[encoded data removed]",
      "text/plain": [
       "<Figure size 432x432 with 2 Axes>"
      ]
     },
     "metadata": {
      "needs_background": "light"
     },
     "output_type": "display_data"
    },
    {
     "data": {
      "image/png": "[encoded data removed]",
      "text/plain": [
       "<Figure size 432x432 with 2 Axes>"
      ]
     },
     "metadata": {
      "needs_background": "light"
     },
     "output_type": "display_data"
    },
    {
     "data": {
      "image/png": "[encoded data removed]",
      "text/plain": [
       "<Figure size 432x432 with 2 Axes>"
      ]
     },
     "metadata": {
      "needs_background": "light"
     },
     "output_type": "display_data"
    }
   ],
   "source": [
    "# 3. Confusion Matrix\n",
    "\n",
    "# defining the plot function\n",
    "\n",
    "def plot_confusion_matrix(cm, classes, title, normalize = False, cmap = plt.cm.Blues):\n",
    "    title = 'Confusion Matrix of {}'.format(title)\n",
    "    if normalize:\n",
    "        cm = cm.astype(float) / cm.sum(axis=1)[:, np.newaxis]\n",
    "\n",
    "    plt.imshow(cm, interpolation = 'nearest', cmap = cmap)\n",
    "    plt.title(title)\n",
    "    plt.colorbar()\n",
    "    tick_marks = np.arange(len(classes))\n",
    "    plt.xticks(tick_marks, classes, rotation = 45)\n",
    "    plt.yticks(tick_marks, classes)\n",
    "\n",
    "    fmt = '.2f' if normalize else 'd'\n",
    "    thresh = cm.max() / 2.\n",
    "    for i, j in itertools.product(range(cm.shape[0]), range(cm.shape[1])):\n",
    "        plt.text(j, i, format(cm[i, j], fmt),\n",
    "                 horizontalalignment = 'center',\n",
    "                 color = 'white' if cm[i, j] > thresh else 'black')\n",
    "\n",
    "    plt.tight_layout()\n",
    "    plt.ylabel('True label')\n",
    "    plt.xlabel('Predicted label')\n",
    "\n",
    "# Compute confusion matrix for the models\n",
    "\n",
    "tree_matrix = confusion_matrix(y_test, tree_yhat, labels = [0, 1]) # Decision Tree\n",
    "# knn_matrix = confusion_matrix(y_test, knn_yhat, labels = [0, 1]) # K-Nearest Neighbors\n",
    "lr_matrix = confusion_matrix(y_test, lr_yhat, labels = [0, 1]) # Logistic Regression\n",
    "svm_matrix = confusion_matrix(y_test, svm_yhat, labels = [0, 1]) # Support Vector Machine\n",
    "rf_matrix = confusion_matrix(y_test, rf_yhat, labels = [0, 1]) # Random Forest Tree\n",
    "xgb_matrix = confusion_matrix(y_test, xgb_yhat, labels = [0, 1]) # XGBoost\n",
    "\n",
    "# Plot the confusion matrix\n",
    "\n",
    "plt.rcParams['figure.figsize'] = (6, 6)\n",
    "\n",
    "# 1. Decision tree\n",
    "\n",
    "tree_cm_plot = plot_confusion_matrix(tree_matrix, \n",
    "                                classes = ['Non-Default(0)','Default(1)'], \n",
    "                                normalize = False, title = 'Decision Tree')\n",
    "plt.savefig('tree_cm_plot.png')\n",
    "plt.show()\n",
    "\n",
    "# # 2. K-Nearest Neighbors\n",
    "\n",
    "# knn_cm_plot = plot_confusion_matrix(knn_matrix, \n",
    "#                                 classes = ['Non-Default(0)','Default(1)'], \n",
    "#                                 normalize = False, title = 'KNN')\n",
    "# plt.savefig('knn_cm_plot.png')\n",
    "# plt.show()\n",
    "\n",
    "# 2. Logistic regression\n",
    "\n",
    "lr_cm_plot = plot_confusion_matrix(lr_matrix, \n",
    "                                classes = ['Non-Default(0)','Default(1)'], \n",
    "                                normalize = False, title = 'Logistic Regression')\n",
    "plt.savefig('lr_cm_plot.png')\n",
    "plt.show()\n",
    "\n",
    "# 3. Support Vector Machine\n",
    "\n",
    "svm_cm_plot = plot_confusion_matrix(svm_matrix, \n",
    "                                classes = ['Non-Default(0)','Default(1)'], \n",
    "                                normalize = False, title = 'SVM')\n",
    "plt.savefig('svm_cm_plot.png')\n",
    "plt.show()\n",
    "\n",
    "# 4. Random forest tree\n",
    "\n",
    "rf_cm_plot = plot_confusion_matrix(rf_matrix, \n",
    "                                classes = ['Non-Default(0)','Default(1)'], \n",
    "                                normalize = False, title = 'Random Forest Tree')\n",
    "plt.savefig('rf_cm_plot.png')\n",
    "plt.show()\n",
    "\n",
    "# 5. XGBoost\n",
    "\n",
    "xgb_cm_plot = plot_confusion_matrix(xgb_matrix, \n",
    "                                classes = ['Non-Default(0)','Default(1)'], \n",
    "                                normalize = False, title = 'XGBoost')\n",
    "plt.savefig('xgb_cm_plot.png')\n",
    "plt.show()"
   ]
  },
  {
   "cell_type": "code",
   "execution_count": null,
   "id": "80ea446f",
   "metadata": {},
   "outputs": [],
   "source": []
  }
 ],
 "metadata": {
  "kernelspec": {
   "display_name": "Python 3 (ipykernel)",
   "language": "python",
   "name": "python3"
  },
  "language_info": {
   "codemirror_mode": {
    "name": "ipython",
    "version": 3
   },
   "file_extension": ".py",
   "mimetype": "text/x-python",
   "name": "python",
   "nbconvert_exporter": "python",
   "pygments_lexer": "ipython3",
   "version": "3.9.7"
  }
 },
 "nbformat": 4,
 "nbformat_minor": 5
}
